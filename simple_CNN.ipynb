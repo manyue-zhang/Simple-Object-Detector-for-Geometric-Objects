{
 "cells": [
  {
   "cell_type": "markdown",
   "id": "9a6a7a56",
   "metadata": {},
   "source": [
    "# Simple Object Detector for Geometric Objects"
   ]
  },
  {
   "cell_type": "markdown",
   "id": "26b1c857",
   "metadata": {},
   "source": [
    "## create dataset "
   ]
  },
  {
   "cell_type": "code",
   "execution_count": 2,
   "id": "ae452c91",
   "metadata": {},
   "outputs": [],
   "source": [
    "from PIL import Image, ImageDraw\n",
    "import numpy as np\n",
    "import csv\n",
    "import os\n",
    "\n",
    "def create_data(num,img_dir,label_file):\n",
    "    width, height = 100,100\n",
    "    background_color = (0, 0, 0)\n",
    "    with open(label_file,'w',newline='') as csvfile:\n",
    "        writer = csv.writer(csvfile)\n",
    "        #writer.writerow(['filename', 'Image Class','has_circle','num_objects'])\n",
    "        writer.writerow(['filename','has_circle'])\n",
    "\n",
    "        for i in range(num):\n",
    "            img_name =f'image_{i}.png'\n",
    "            img_path = os.path.join(img_dir,img_name)\n",
    "            img = Image.new('RGB', (width, height), background_color)\n",
    "            draw = ImageDraw.Draw(img)\n",
    "            num_objects = np.random.randint(0, 4)\n",
    "            has_circle = False\n",
    "            shapes = []\n",
    "            for j in range(num_objects):\n",
    "                shape = np.random.choice(['circle', 'square','rectangle'],p = [0.5,0.25,0.25])\n",
    "                color = tuple(np.random.randint(0, 256, size=3))\n",
    "                x1, y1 = np.random.randint(0, width), np.random.randint(0, height)\n",
    "                x2, y2 = np.random.randint(0, width), np.random.randint(0, height)\n",
    "                if shape == 'circle':\n",
    "                    has_circle = True\n",
    "                    r = np.random.randint(10, 40)\n",
    "                    draw.ellipse((x1-r, y1-r, x1+r, y1+r), fill=None,outline = color,width = 3)\n",
    "\n",
    "                elif shape == 'square':\n",
    "                    s = np.random.randint(10, 50)\n",
    "                    draw.rectangle((x1, y1, x1+s, y1+s), fill=None,outline = color,width = 3)\n",
    "\n",
    "                elif shape =='rectangle':\n",
    "                    a, b = np.random.randint(10,50,size = 2)\n",
    "                    draw.rectangle((x1 ,y1, x2+a, y2+b),fill = None,outline =color,width =3)\n",
    "                shapes.append(shape)\n",
    "\n",
    "            img.save(img_path,quality = 95)\n",
    "            writer.writerow([img_name, int(has_circle)])"
   ]
  },
  {
   "cell_type": "code",
   "execution_count": 2,
   "id": "219c620c",
   "metadata": {},
   "outputs": [],
   "source": [
    "#create Training dataset for 2000\n",
    "create_data(2000, './dataset/images/','./dataset/labels/labels.csv')"
   ]
  },
  {
   "cell_type": "code",
   "execution_count": 3,
   "id": "d9d9e23b",
   "metadata": {},
   "outputs": [],
   "source": [
    "#create Test dataset for 200\n",
    "create_data(200,'./dataset/test/image/', './dataset/test/labels.csv')"
   ]
  },
  {
   "cell_type": "markdown",
   "id": "9abbf7dd",
   "metadata": {},
   "source": [
    "## generate  dataset"
   ]
  },
  {
   "cell_type": "code",
   "execution_count": 3,
   "id": "bbba8944",
   "metadata": {},
   "outputs": [],
   "source": [
    "import tensorflow as tf\n",
    "from tensorflow import keras\n",
    "import numpy as np\n",
    "from keras.preprocessing.image import ImageDataGenerator\n",
    "import pandas as pd\n",
    "from PIL import Image\n",
    "import matplotlib.pyplot as plt\n",
    "from keras.callbacks import EarlyStopping\n",
    "from sklearn.preprocessing import LabelEncoder\n",
    "from tensorflow.keras.utils import to_categorical\n",
    "\n",
    "def generate_data(input_path,output_path):\n",
    "    data = pd.read_csv(input_path)\n",
    "    image_filenames = data['filename']\n",
    "    image_classes = data['has_circle']\n",
    "\n",
    "    image_size = (100,100)\n",
    "    images = []\n",
    "    for filename in image_filenames:\n",
    "        image_path = output_path+filename\n",
    "        \n",
    "        image = Image.open(image_path).resize(image_size)\n",
    "        image = np.array(image)/255.0\n",
    "        images.append(image)\n",
    "    images = np.array(images)\n",
    "\n",
    "    label_encoder = LabelEncoder()\n",
    "    encoded_classes = label_encoder.fit_transform(image_classes)\n",
    "    labels = to_categorical(encoded_classes)\n",
    "    return images, labels"
   ]
  },
  {
   "cell_type": "code",
   "execution_count": 5,
   "id": "d3d41833",
   "metadata": {},
   "outputs": [],
   "source": [
    "# generate Training data \n",
    "training_images,training_labels = generate_data('./dataset/labels/labels.csv','./dataset/images/')"
   ]
  },
  {
   "cell_type": "code",
   "execution_count": 6,
   "id": "c7d43bf5",
   "metadata": {},
   "outputs": [],
   "source": [
    "## generate Test data \n",
    "test_images,test_labels  = generate_data('./dataset/test/labels.csv','./dataset/test/image/')"
   ]
  },
  {
   "cell_type": "markdown",
   "id": "af70246d",
   "metadata": {},
   "source": [
    "## build  CNN model"
   ]
  },
  {
   "cell_type": "code",
   "execution_count": 5,
   "id": "8d22c4c9",
   "metadata": {},
   "outputs": [
    {
     "name": "stdout",
     "output_type": "stream",
     "text": [
      "Model: \"sequential_1\"\n",
      "_________________________________________________________________\n",
      " Layer (type)                Output Shape              Param #   \n",
      "=================================================================\n",
      " conv2d_2 (Conv2D)           (None, 98, 98, 32)        896       \n",
      "                                                                 \n",
      " max_pooling2d_2 (MaxPooling  (None, 49, 49, 32)       0         \n",
      " 2D)                                                             \n",
      "                                                                 \n",
      " conv2d_3 (Conv2D)           (None, 47, 47, 64)        18496     \n",
      "                                                                 \n",
      " max_pooling2d_3 (MaxPooling  (None, 23, 23, 64)       0         \n",
      " 2D)                                                             \n",
      "                                                                 \n",
      " flatten_1 (Flatten)         (None, 33856)             0         \n",
      "                                                                 \n",
      " dense_2 (Dense)             (None, 2)                 67714     \n",
      "                                                                 \n",
      "=================================================================\n",
      "Total params: 87,106\n",
      "Trainable params: 87,106\n",
      "Non-trainable params: 0\n",
      "_________________________________________________________________\n"
     ]
    }
   ],
   "source": [
    "model = keras.Sequential([\n",
    "    keras.layers.Conv2D(32,(3,3),activation = 'relu', input_shape = (100,100,3)),\n",
    "    keras.layers.MaxPooling2D((2,2)),\n",
    "    keras.layers.Conv2D(64,(3,3),activation = 'relu'),\n",
    "    keras.layers.MaxPooling2D((2,2)),\n",
    "    keras.layers.Flatten(),\n",
    "  \n",
    "    keras.layers.Dense(2,activation = 'sigmoid')\n",
    "])\n",
    "model.summary()"
   ]
  },
  {
   "cell_type": "code",
   "execution_count": 8,
   "id": "d17a1f18",
   "metadata": {},
   "outputs": [],
   "source": [
    "model.compile(optimizer = 'adam', loss = 'binary_crossentropy',metrics = ['accuracy'])"
   ]
  },
  {
   "cell_type": "code",
   "execution_count": 9,
   "id": "2ddb3108",
   "metadata": {},
   "outputs": [
    {
     "name": "stdout",
     "output_type": "stream",
     "text": [
      "Epoch 1/30\n",
      "63/63 [==============================] - 14s 205ms/step - loss: 0.5165 - accuracy: 0.7985 - val_loss: 0.3699 - val_accuracy: 0.8400\n",
      "Epoch 2/30\n",
      "63/63 [==============================] - 13s 206ms/step - loss: 0.1685 - accuracy: 0.9595 - val_loss: 0.0452 - val_accuracy: 0.9850\n",
      "Epoch 3/30\n",
      "63/63 [==============================] - 13s 207ms/step - loss: 0.0265 - accuracy: 0.9930 - val_loss: 0.0244 - val_accuracy: 0.9900\n",
      "Epoch 4/30\n",
      "63/63 [==============================] - 13s 208ms/step - loss: 0.0129 - accuracy: 0.9965 - val_loss: 0.0593 - val_accuracy: 0.9750\n",
      "Epoch 5/30\n",
      "63/63 [==============================] - 14s 223ms/step - loss: 0.0099 - accuracy: 0.9970 - val_loss: 0.0321 - val_accuracy: 0.9850\n",
      "Epoch 6/30\n",
      "63/63 [==============================] - 16s 246ms/step - loss: 0.0046 - accuracy: 0.9985 - val_loss: 0.0337 - val_accuracy: 0.9900\n",
      "Epoch 7/30\n",
      "63/63 [==============================] - 15s 244ms/step - loss: 0.0011 - accuracy: 1.0000 - val_loss: 0.0438 - val_accuracy: 0.9850\n",
      "Epoch 8/30\n",
      "63/63 [==============================] - 15s 238ms/step - loss: 5.7349e-04 - accuracy: 1.0000 - val_loss: 0.0300 - val_accuracy: 0.9900\n",
      "Train: 1.000, Test: 0.990\n"
     ]
    },
    {
     "data": {
      "image/png": "[encoded data removed]",
      "text/plain": [
       "<Figure size 432x288 with 2 Axes>"
      ]
     },
     "metadata": {
      "needs_background": "light"
     },
     "output_type": "display_data"
    }
   ],
   "source": [
    "# Define the early stopping criteria\n",
    "early_stopping = EarlyStopping(monitor='val_loss', patience=5)\n",
    "# fit model\n",
    "history = model.fit(training_images, training_labels, validation_data=(test_images, test_labels), epochs=30, callbacks=[early_stopping])\n",
    "# evaluate the model\n",
    "_, train_acc = model.evaluate(training_images, training_labels, verbose=0)\n",
    "_, test_acc = model.evaluate(test_images, test_labels, verbose=0)\n",
    "print('Train: %.3f, Test: %.3f' % (train_acc, test_acc))\n",
    "\n",
    "\n",
    "plt.subplot(221)\n",
    "plt.title('Loss')\n",
    "plt.plot(history.history['loss'], label='train',)\n",
    "plt.plot(history.history['val_loss'], label='test')\n",
    "plt.legend()\n",
    "plt.xticks(range(15), range(15))\n",
    "\n",
    "plt.subplot(222)\n",
    "plt.title('Accuracy')\n",
    "plt.plot(history.history['accuracy'], label='train')\n",
    "plt.plot(history.history['val_accuracy'], label='test')\n",
    "plt.legend()\n",
    "plt.xticks(range(15), range(15))\n",
    "plt.show()"
   ]
  },
  {
   "cell_type": "markdown",
   "id": "1f841a6d",
   "metadata": {},
   "source": [
    "## model evaluation"
   ]
  },
  {
   "cell_type": "code",
   "execution_count": 16,
   "id": "5f3e6c26",
   "metadata": {},
   "outputs": [
    {
     "name": "stdout",
     "output_type": "stream",
     "text": [
      "1\n"
     ]
    }
   ],
   "source": [
    "print(predictions_labels[82])\n"
   ]
  },
  {
   "cell_type": "code",
   "execution_count": 17,
   "id": "d5e6fce5",
   "metadata": {},
   "outputs": [
    {
     "name": "stdout",
     "output_type": "stream",
     "text": [
      "[0.31649947 0.65778714]\n"
     ]
    }
   ],
   "source": [
    "predictions \n",
    "print(predictions[82])"
   ]
  },
  {
   "cell_type": "code",
   "execution_count": 10,
   "id": "65b9e708",
   "metadata": {},
   "outputs": [
    {
     "name": "stdout",
     "output_type": "stream",
     "text": [
      "7/7 [==============================] - 1s 54ms/step\n",
      " accuracy： 0.99\n"
     ]
    },
    {
     "data": {
      "image/png": "[encoded data removed]",
      "text/plain": [
       "<Figure size 432x288 with 2 Axes>"
      ]
     },
     "metadata": {
      "needs_background": "light"
     },
     "output_type": "display_data"
    },
    {
     "data": {
      "image/png": "[encoded data removed]",
      "text/plain": [
       "<Figure size 432x288 with 1 Axes>"
      ]
     },
     "metadata": {
      "needs_background": "light"
     },
     "output_type": "display_data"
    },
    {
     "data": {
      "image/png": "[encoded data removed]",
      "text/plain": [
       "<Figure size 432x288 with 1 Axes>"
      ]
     },
     "metadata": {
      "needs_background": "light"
     },
     "output_type": "display_data"
    }
   ],
   "source": [
    "import numpy as np\n",
    "import matplotlib.pyplot as plt\n",
    "from sklearn.metrics import confusion_matrix\n",
    "\n",
    "true_labels = pd.read_csv('./dataset/test/labels.csv')\n",
    "label_encoder = LabelEncoder()\n",
    "true_labels  = label_encoder.fit_transform(true_labels['has_circle'])\n",
    "predictions = model.predict(test_images)\n",
    "predictions_labels = np.argmax(predictions , axis=1)\n",
    "accuracy = np.sum(predictions_labels == true_labels) / len(true_labels)\n",
    "print(\" accuracy：\", accuracy)\n",
    "\n",
    "#Calculate the confusion matrix\n",
    "confusion = confusion_matrix(true_labels, predictions_labels)\n",
    "\n",
    "# Visualize the confusion matrix\n",
    "classes = ['without circle','with circle' ]\n",
    "plt.imshow(confusion, interpolation='nearest', cmap=plt.cm.Blues)\n",
    "plt.title(\"confusion matrix\")\n",
    "plt.colorbar()\n",
    "tick_marks = np.arange(len(classes))\n",
    "plt.xticks(tick_marks, classes)\n",
    "plt.yticks(tick_marks, classes)\n",
    "\n",
    "# Display values on a heatmap\n",
    "thresh = confusion.max() / 2\n",
    "for i in range(len(classes)):\n",
    "    for j in range(len(classes)):\n",
    "        plt.text(j, i, format(confusion[i, j], 'd'), horizontalalignment=\"center\",\n",
    "                 color=\"white\" if confusion[i, j] > thresh else \"black\")\n",
    "\n",
    "plt.tight_layout()\n",
    "plt.ylabel('True label')\n",
    "plt.xlabel('Predicted label')\n",
    "plt.show()\n",
    "\n",
    "num_samples = 10\n",
    "sample_indices = np.random.choice(len(predictions), len(predictions), replace=False)\n",
    "for idx in sample_indices:\n",
    "    image = test_images[idx]  \n",
    "    prediction = classes[predictions_labels[idx]]\n",
    "    true_label = classes[true_labels[idx]]\n",
    "    if prediction != true_label:\n",
    "        plt.imshow(image)\n",
    "        plt.title(f\"true label:{true_label}, prediction:{prediction}, filename:image_{idx}\")\n",
    "        plt.axis('off')\n",
    "        plt.show()\n"
   ]
  },
  {
   "cell_type": "markdown",
   "id": "e872bef7",
   "metadata": {},
   "source": [
    "# create a video"
   ]
  },
  {
   "cell_type": "code",
   "execution_count": 11,
   "id": "096be4fb",
   "metadata": {},
   "outputs": [],
   "source": [
    "import cv2\n",
    "import numpy as np"
   ]
  },
  {
   "cell_type": "code",
   "execution_count": 12,
   "id": "62e69a88",
   "metadata": {},
   "outputs": [
    {
     "name": "stdout",
     "output_type": "stream",
     "text": [
      "Video wurde erstellt: circle_move.mp4\n"
     ]
    }
   ],
   "source": [
    "width,height = 640,480\n",
    "fps = 30\n",
    "duration = 15\n",
    "\n",
    "output = 'circle_move.mp4'\n",
    "fourcc = cv2.VideoWriter_fourcc(*'mp4v')\n",
    "video = cv2.VideoWriter(output,fourcc,fps,(width,height))\n",
    "\n",
    "r = 40\n",
    "x = width // 2\n",
    "y = height // 2\n",
    "speed = 1\n",
    "\n",
    "background = np.zeros((height,width,3),dtype = np.uint8)\n",
    "\n",
    "for frame in range(fps*duration):\n",
    "    angle = frame*speed *np.pi*2/fps\n",
    "    circle_x = int(x+r*np.cos(angle))\n",
    "    circle_y = int(y + r* np.sin(angle))\n",
    "    \n",
    "    frame = background.copy()\n",
    "    cv2.circle(frame,(circle_x,circle_y),r,(255,255,255),-1)\n",
    "    \n",
    "    video.write(frame)\n",
    "    speed += 0.1\n",
    "video.release()\n",
    "print(\"Video wurde erstellt:\", output)"
   ]
  }
 ],
 "metadata": {
  "kernelspec": {
   "display_name": "Python (myenv)",
   "language": "python",
   "name": "dl"
  },
  "language_info": {
   "codemirror_mode": {
    "name": "ipython",
    "version": 3
   },
   "file_extension": ".py",
   "mimetype": "text/x-python",
   "name": "python",
   "nbconvert_exporter": "python",
   "pygments_lexer": "ipython3",
   "version": "3.10.2"
  }
 },
 "nbformat": 4,
 "nbformat_minor": 5
}
